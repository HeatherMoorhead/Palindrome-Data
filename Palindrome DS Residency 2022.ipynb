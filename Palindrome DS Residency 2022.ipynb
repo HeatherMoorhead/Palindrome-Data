{
 "cells": [
  {
   "cell_type": "markdown",
   "metadata": {},
   "source": [
    "# Data Science Residency Interview Assignment\n",
    "Completed by: Heather Moorhead.\n",
    "\n",
    "Data: Supplied by Palindrome Data (104 rows and 9 columns).\n",
    "\n",
    "Completed as part of the Data Science Residency 2022 interview process.\n",
    "\n",
    "Time taken to complete: 45 mins."
   ]
  },
  {
   "cell_type": "code",
   "execution_count": 1,
   "metadata": {},
   "outputs": [],
   "source": [
    "import pandas as pd\n",
    "import matplotlib.pyplot as plt\n",
    "import re\n",
    "%matplotlib inline"
   ]
  },
  {
   "cell_type": "code",
   "execution_count": 2,
   "metadata": {},
   "outputs": [
    {
     "data": {
      "text/html": [
       "<div>\n",
       "<style scoped>\n",
       "    .dataframe tbody tr th:only-of-type {\n",
       "        vertical-align: middle;\n",
       "    }\n",
       "\n",
       "    .dataframe tbody tr th {\n",
       "        vertical-align: top;\n",
       "    }\n",
       "\n",
       "    .dataframe thead th {\n",
       "        text-align: right;\n",
       "    }\n",
       "</style>\n",
       "<table border=\"1\" class=\"dataframe\">\n",
       "  <thead>\n",
       "    <tr style=\"text-align: right;\">\n",
       "      <th></th>\n",
       "      <th>District</th>\n",
       "      <th>Code</th>\n",
       "      <th>Estimate</th>\n",
       "      <th>Prevalence_%</th>\n",
       "      <th>Prevalence_LCL</th>\n",
       "      <th>Prevalence_UCL</th>\n",
       "      <th>NoPLHIV</th>\n",
       "      <th>NoPLHIV_LCL</th>\n",
       "      <th>NoPLHIV_UCL</th>\n",
       "    </tr>\n",
       "  </thead>\n",
       "  <tbody>\n",
       "    <tr>\n",
       "      <th>0</th>\n",
       "      <td>Buffalo City</td>\n",
       "      <td>BUF</td>\n",
       "      <td>Survey</td>\n",
       "      <td>13.600000</td>\n",
       "      <td>10.268000</td>\n",
       "      <td>16.932000</td>\n",
       "      <td>102437</td>\n",
       "      <td>77340</td>\n",
       "      <td>127534</td>\n",
       "    </tr>\n",
       "    <tr>\n",
       "      <th>1</th>\n",
       "      <td>Buffalo City</td>\n",
       "      <td>BUF</td>\n",
       "      <td>Fay-Heriott</td>\n",
       "      <td>13.501283</td>\n",
       "      <td>11.031605</td>\n",
       "      <td>16.421802</td>\n",
       "      <td>101693</td>\n",
       "      <td>83092</td>\n",
       "      <td>123691</td>\n",
       "    </tr>\n",
       "    <tr>\n",
       "      <th>2</th>\n",
       "      <td>City of Cape Town</td>\n",
       "      <td>CPT</td>\n",
       "      <td>Survey</td>\n",
       "      <td>5.200000</td>\n",
       "      <td>3.044000</td>\n",
       "      <td>7.356000</td>\n",
       "      <td>200751</td>\n",
       "      <td>117517</td>\n",
       "      <td>283985</td>\n",
       "    </tr>\n",
       "    <tr>\n",
       "      <th>3</th>\n",
       "      <td>City of Cape Town</td>\n",
       "      <td>CPT</td>\n",
       "      <td>Fay-Heriott</td>\n",
       "      <td>6.020043</td>\n",
       "      <td>4.335072</td>\n",
       "      <td>8.303091</td>\n",
       "      <td>232409</td>\n",
       "      <td>167359</td>\n",
       "      <td>320548</td>\n",
       "    </tr>\n",
       "    <tr>\n",
       "      <th>4</th>\n",
       "      <td>West Coast</td>\n",
       "      <td>DC1</td>\n",
       "      <td>Survey</td>\n",
       "      <td>2.700000</td>\n",
       "      <td>0.000000</td>\n",
       "      <td>5.444000</td>\n",
       "      <td>11302</td>\n",
       "      <td>0</td>\n",
       "      <td>22789</td>\n",
       "    </tr>\n",
       "  </tbody>\n",
       "</table>\n",
       "</div>"
      ],
      "text/plain": [
       "            District Code     Estimate  Prevalence_%  Prevalence_LCL  \\\n",
       "0       Buffalo City  BUF       Survey     13.600000       10.268000   \n",
       "1       Buffalo City  BUF  Fay-Heriott     13.501283       11.031605   \n",
       "2  City of Cape Town  CPT       Survey      5.200000        3.044000   \n",
       "3  City of Cape Town  CPT  Fay-Heriott      6.020043        4.335072   \n",
       "4         West Coast  DC1       Survey      2.700000        0.000000   \n",
       "\n",
       "   Prevalence_UCL  NoPLHIV  NoPLHIV_LCL  NoPLHIV_UCL  \n",
       "0       16.932000   102437        77340       127534  \n",
       "1       16.421802   101693        83092       123691  \n",
       "2        7.356000   200751       117517       283985  \n",
       "3        8.303091   232409       167359       320548  \n",
       "4        5.444000    11302            0        22789  "
      ]
     },
     "execution_count": 2,
     "metadata": {},
     "output_type": "execute_result"
    }
   ],
   "source": [
    "df = pd.read_excel(\"palindrome_data.xlsx\", header=1)\n",
    "df.head()"
   ]
  },
  {
   "cell_type": "code",
   "execution_count": 3,
   "metadata": {},
   "outputs": [
    {
     "data": {
      "text/plain": [
       "(104, 9)"
      ]
     },
     "execution_count": 3,
     "metadata": {},
     "output_type": "execute_result"
    }
   ],
   "source": [
    "df.shape"
   ]
  },
  {
   "cell_type": "code",
   "execution_count": 4,
   "metadata": {},
   "outputs": [
    {
     "data": {
      "text/plain": [
       "<bound method NDFrame.describe of                      District Code     Estimate  Prevalence_%  Prevalence_LCL  \\\n",
       "0                Buffalo City  BUF       Survey     13.600000       10.268000   \n",
       "1                Buffalo City  BUF  Fay-Heriott     13.501283       11.031605   \n",
       "2           City of Cape Town  CPT       Survey      5.200000        3.044000   \n",
       "3           City of Cape Town  CPT  Fay-Heriott      6.020043        4.335072   \n",
       "4                  West Coast  DC1       Survey      2.700000        0.000000   \n",
       "..                        ...  ...          ...           ...             ...   \n",
       "99                   Mangaung  MAN  Fay-Heriott      9.147425        6.725917   \n",
       "100  Nelson Mandela Bay Metro  NMA       Survey      8.300000        3.400000   \n",
       "101  Nelson Mandela Bay Metro  NMA  Fay-Heriott      9.054060        6.128703   \n",
       "102           City of Tshwane  TSH       Survey     11.700000        7.388000   \n",
       "103           City of Tshwane  TSH  Fay-Heriott     11.024858        8.255934   \n",
       "\n",
       "     Prevalence_UCL  NoPLHIV  NoPLHIV_LCL  NoPLHIV_UCL  \n",
       "0         16.932000   102437        77340       127534  \n",
       "1         16.421802   101693        83092       123691  \n",
       "2          7.356000   200751       117517       283985  \n",
       "3          8.303091   232409       167359       320548  \n",
       "4          5.444000    11302            0        22789  \n",
       "..              ...      ...          ...          ...  \n",
       "99        12.325536   101520        74646       136792  \n",
       "100       13.200000    97459        39923       154995  \n",
       "101       13.179704   106313        71964       154757  \n",
       "102       16.012000   361450       228239       494661  \n",
       "103       14.574909   340593       255052       450265  \n",
       "\n",
       "[104 rows x 9 columns]>"
      ]
     },
     "execution_count": 4,
     "metadata": {},
     "output_type": "execute_result"
    }
   ],
   "source": [
    "df.describe"
   ]
  },
  {
   "cell_type": "markdown",
   "metadata": {},
   "source": [
    "**Q1 What is the total number of people living with HIV (NoPLHIV) in the listed districts according to the Survey estimate?**"
   ]
  },
  {
   "cell_type": "code",
   "execution_count": 5,
   "metadata": {},
   "outputs": [
    {
     "data": {
      "text/html": [
       "<div>\n",
       "<style scoped>\n",
       "    .dataframe tbody tr th:only-of-type {\n",
       "        vertical-align: middle;\n",
       "    }\n",
       "\n",
       "    .dataframe tbody tr th {\n",
       "        vertical-align: top;\n",
       "    }\n",
       "\n",
       "    .dataframe thead th {\n",
       "        text-align: right;\n",
       "    }\n",
       "</style>\n",
       "<table border=\"1\" class=\"dataframe\">\n",
       "  <thead>\n",
       "    <tr style=\"text-align: right;\">\n",
       "      <th></th>\n",
       "      <th>District</th>\n",
       "      <th>Code</th>\n",
       "      <th>Estimate</th>\n",
       "      <th>Prevalence_%</th>\n",
       "      <th>Prevalence_LCL</th>\n",
       "      <th>Prevalence_UCL</th>\n",
       "      <th>NoPLHIV</th>\n",
       "      <th>NoPLHIV_LCL</th>\n",
       "      <th>NoPLHIV_UCL</th>\n",
       "    </tr>\n",
       "  </thead>\n",
       "  <tbody>\n",
       "    <tr>\n",
       "      <th>0</th>\n",
       "      <td>Buffalo City</td>\n",
       "      <td>BUF</td>\n",
       "      <td>Survey</td>\n",
       "      <td>13.6</td>\n",
       "      <td>10.268</td>\n",
       "      <td>16.932</td>\n",
       "      <td>102437</td>\n",
       "      <td>77340</td>\n",
       "      <td>127534</td>\n",
       "    </tr>\n",
       "    <tr>\n",
       "      <th>2</th>\n",
       "      <td>City of Cape Town</td>\n",
       "      <td>CPT</td>\n",
       "      <td>Survey</td>\n",
       "      <td>5.2</td>\n",
       "      <td>3.044</td>\n",
       "      <td>7.356</td>\n",
       "      <td>200751</td>\n",
       "      <td>117517</td>\n",
       "      <td>283985</td>\n",
       "    </tr>\n",
       "    <tr>\n",
       "      <th>4</th>\n",
       "      <td>West Coast</td>\n",
       "      <td>DC1</td>\n",
       "      <td>Survey</td>\n",
       "      <td>2.7</td>\n",
       "      <td>0.000</td>\n",
       "      <td>5.444</td>\n",
       "      <td>11302</td>\n",
       "      <td>0</td>\n",
       "      <td>22789</td>\n",
       "    </tr>\n",
       "    <tr>\n",
       "      <th>6</th>\n",
       "      <td>Cacadu</td>\n",
       "      <td>DC10</td>\n",
       "      <td>Survey</td>\n",
       "      <td>7.6</td>\n",
       "      <td>3.484</td>\n",
       "      <td>11.716</td>\n",
       "      <td>34732</td>\n",
       "      <td>15922</td>\n",
       "      <td>53542</td>\n",
       "    </tr>\n",
       "    <tr>\n",
       "      <th>8</th>\n",
       "      <td>Amatole</td>\n",
       "      <td>DC12</td>\n",
       "      <td>Survey</td>\n",
       "      <td>11.0</td>\n",
       "      <td>7.276</td>\n",
       "      <td>14.724</td>\n",
       "      <td>98884</td>\n",
       "      <td>65407</td>\n",
       "      <td>132361</td>\n",
       "    </tr>\n",
       "  </tbody>\n",
       "</table>\n",
       "</div>"
      ],
      "text/plain": [
       "            District  Code Estimate  Prevalence_%  Prevalence_LCL  \\\n",
       "0       Buffalo City   BUF   Survey          13.6          10.268   \n",
       "2  City of Cape Town   CPT   Survey           5.2           3.044   \n",
       "4         West Coast   DC1   Survey           2.7           0.000   \n",
       "6             Cacadu  DC10   Survey           7.6           3.484   \n",
       "8            Amatole  DC12   Survey          11.0           7.276   \n",
       "\n",
       "   Prevalence_UCL  NoPLHIV  NoPLHIV_LCL  NoPLHIV_UCL  \n",
       "0          16.932   102437        77340       127534  \n",
       "2           7.356   200751       117517       283985  \n",
       "4           5.444    11302            0        22789  \n",
       "6          11.716    34732        15922        53542  \n",
       "8          14.724    98884        65407       132361  "
      ]
     },
     "execution_count": 5,
     "metadata": {},
     "output_type": "execute_result"
    }
   ],
   "source": [
    "#Isolate the survey estimates and then add all values in the NoPLHIV column.\n",
    "survey_est = df[df['Estimate'] == \"Survey\"]\n",
    "survey_est.head(5)"
   ]
  },
  {
   "cell_type": "code",
   "execution_count": 6,
   "metadata": {},
   "outputs": [
    {
     "name": "stdout",
     "output_type": "stream",
     "text": [
      "The total number of people living with HIV in the listed districts as per the survery estimate is 6409903\n"
     ]
    }
   ],
   "source": [
    "print(\"The total number of people living with HIV in the listed districts as per the survery estimate is \" + str(survey_est['NoPLHIV'].sum()))"
   ]
  },
  {
   "cell_type": "markdown",
   "metadata": {},
   "source": [
    "**Q2 What is the average NoPLHIV of the two estimates used for “Xhariep”?**"
   ]
  },
  {
   "cell_type": "code",
   "execution_count": 7,
   "metadata": {},
   "outputs": [
    {
     "data": {
      "text/html": [
       "<div>\n",
       "<style scoped>\n",
       "    .dataframe tbody tr th:only-of-type {\n",
       "        vertical-align: middle;\n",
       "    }\n",
       "\n",
       "    .dataframe tbody tr th {\n",
       "        vertical-align: top;\n",
       "    }\n",
       "\n",
       "    .dataframe thead th {\n",
       "        text-align: right;\n",
       "    }\n",
       "</style>\n",
       "<table border=\"1\" class=\"dataframe\">\n",
       "  <thead>\n",
       "    <tr style=\"text-align: right;\">\n",
       "      <th></th>\n",
       "      <th>District</th>\n",
       "      <th>Code</th>\n",
       "      <th>Estimate</th>\n",
       "      <th>Prevalence_%</th>\n",
       "      <th>Prevalence_LCL</th>\n",
       "      <th>Prevalence_UCL</th>\n",
       "      <th>NoPLHIV</th>\n",
       "      <th>NoPLHIV_LCL</th>\n",
       "      <th>NoPLHIV_UCL</th>\n",
       "    </tr>\n",
       "  </thead>\n",
       "  <tbody>\n",
       "    <tr>\n",
       "      <th>16</th>\n",
       "      <td>Xhariep</td>\n",
       "      <td>DC16</td>\n",
       "      <td>Survey</td>\n",
       "      <td>8.30000</td>\n",
       "      <td>6.144000</td>\n",
       "      <td>10.456000</td>\n",
       "      <td>11777</td>\n",
       "      <td>8718</td>\n",
       "      <td>14836</td>\n",
       "    </tr>\n",
       "    <tr>\n",
       "      <th>17</th>\n",
       "      <td>Xhariep</td>\n",
       "      <td>DC16</td>\n",
       "      <td>Fay-Heriott</td>\n",
       "      <td>8.96307</td>\n",
       "      <td>7.187823</td>\n",
       "      <td>11.124214</td>\n",
       "      <td>12718</td>\n",
       "      <td>10199</td>\n",
       "      <td>15784</td>\n",
       "    </tr>\n",
       "  </tbody>\n",
       "</table>\n",
       "</div>"
      ],
      "text/plain": [
       "   District  Code     Estimate  Prevalence_%  Prevalence_LCL  Prevalence_UCL  \\\n",
       "16  Xhariep  DC16       Survey       8.30000        6.144000       10.456000   \n",
       "17  Xhariep  DC16  Fay-Heriott       8.96307        7.187823       11.124214   \n",
       "\n",
       "    NoPLHIV  NoPLHIV_LCL  NoPLHIV_UCL  \n",
       "16    11777         8718        14836  \n",
       "17    12718        10199        15784  "
      ]
     },
     "execution_count": 7,
     "metadata": {},
     "output_type": "execute_result"
    }
   ],
   "source": [
    "#Isolate the data for district Xhariep then get the average of the NoPLHIV column.\n",
    "xhariep = df[df[\"District\"]==\"Xhariep\"]\n",
    "xhariep.head()"
   ]
  },
  {
   "cell_type": "code",
   "execution_count": 8,
   "metadata": {},
   "outputs": [
    {
     "name": "stdout",
     "output_type": "stream",
     "text": [
      "The average estimate for the number of people living with HIV in Xhariep is 12247.5\n"
     ]
    }
   ],
   "source": [
    "print(\"The average estimate for the number of people living with HIV in Xhariep is \" + str(xhariep['NoPLHIV'].mean()))"
   ]
  },
  {
   "cell_type": "markdown",
   "metadata": {},
   "source": [
    "**Q3 Add a column and populate it with the number of people not living with HIV for each row.**"
   ]
  },
  {
   "cell_type": "code",
   "execution_count": 9,
   "metadata": {},
   "outputs": [
    {
     "data": {
      "text/html": [
       "<div>\n",
       "<style scoped>\n",
       "    .dataframe tbody tr th:only-of-type {\n",
       "        vertical-align: middle;\n",
       "    }\n",
       "\n",
       "    .dataframe tbody tr th {\n",
       "        vertical-align: top;\n",
       "    }\n",
       "\n",
       "    .dataframe thead th {\n",
       "        text-align: right;\n",
       "    }\n",
       "</style>\n",
       "<table border=\"1\" class=\"dataframe\">\n",
       "  <thead>\n",
       "    <tr style=\"text-align: right;\">\n",
       "      <th></th>\n",
       "      <th>District</th>\n",
       "      <th>Code</th>\n",
       "      <th>Estimate</th>\n",
       "      <th>Prevalence_%</th>\n",
       "      <th>Prevalence_LCL</th>\n",
       "      <th>Prevalence_UCL</th>\n",
       "      <th>NoPLHIV</th>\n",
       "      <th>NoPLHIV_LCL</th>\n",
       "      <th>NoPLHIV_UCL</th>\n",
       "      <th>Not_living_with_HIV</th>\n",
       "    </tr>\n",
       "  </thead>\n",
       "  <tbody>\n",
       "    <tr>\n",
       "      <th>0</th>\n",
       "      <td>Buffalo City</td>\n",
       "      <td>BUF</td>\n",
       "      <td>Survey</td>\n",
       "      <td>13.600000</td>\n",
       "      <td>10.268000</td>\n",
       "      <td>16.932000</td>\n",
       "      <td>102437</td>\n",
       "      <td>77340</td>\n",
       "      <td>127534</td>\n",
       "      <td>650776</td>\n",
       "    </tr>\n",
       "    <tr>\n",
       "      <th>1</th>\n",
       "      <td>Buffalo City</td>\n",
       "      <td>BUF</td>\n",
       "      <td>Fay-Heriott</td>\n",
       "      <td>13.501283</td>\n",
       "      <td>11.031605</td>\n",
       "      <td>16.421802</td>\n",
       "      <td>101693</td>\n",
       "      <td>83092</td>\n",
       "      <td>123691</td>\n",
       "      <td>651516</td>\n",
       "    </tr>\n",
       "    <tr>\n",
       "      <th>2</th>\n",
       "      <td>City of Cape Town</td>\n",
       "      <td>CPT</td>\n",
       "      <td>Survey</td>\n",
       "      <td>5.200000</td>\n",
       "      <td>3.044000</td>\n",
       "      <td>7.356000</td>\n",
       "      <td>200751</td>\n",
       "      <td>117517</td>\n",
       "      <td>283985</td>\n",
       "      <td>3659845</td>\n",
       "    </tr>\n",
       "    <tr>\n",
       "      <th>3</th>\n",
       "      <td>City of Cape Town</td>\n",
       "      <td>CPT</td>\n",
       "      <td>Fay-Heriott</td>\n",
       "      <td>6.020043</td>\n",
       "      <td>4.335072</td>\n",
       "      <td>8.303091</td>\n",
       "      <td>232409</td>\n",
       "      <td>167359</td>\n",
       "      <td>320548</td>\n",
       "      <td>3628178</td>\n",
       "    </tr>\n",
       "    <tr>\n",
       "      <th>4</th>\n",
       "      <td>West Coast</td>\n",
       "      <td>DC1</td>\n",
       "      <td>Survey</td>\n",
       "      <td>2.700000</td>\n",
       "      <td>0.000000</td>\n",
       "      <td>5.444000</td>\n",
       "      <td>11302</td>\n",
       "      <td>0</td>\n",
       "      <td>22789</td>\n",
       "      <td>407290</td>\n",
       "    </tr>\n",
       "  </tbody>\n",
       "</table>\n",
       "</div>"
      ],
      "text/plain": [
       "            District Code     Estimate  Prevalence_%  Prevalence_LCL  \\\n",
       "0       Buffalo City  BUF       Survey     13.600000       10.268000   \n",
       "1       Buffalo City  BUF  Fay-Heriott     13.501283       11.031605   \n",
       "2  City of Cape Town  CPT       Survey      5.200000        3.044000   \n",
       "3  City of Cape Town  CPT  Fay-Heriott      6.020043        4.335072   \n",
       "4         West Coast  DC1       Survey      2.700000        0.000000   \n",
       "\n",
       "   Prevalence_UCL  NoPLHIV  NoPLHIV_LCL  NoPLHIV_UCL  Not_living_with_HIV  \n",
       "0       16.932000   102437        77340       127534               650776  \n",
       "1       16.421802   101693        83092       123691               651516  \n",
       "2        7.356000   200751       117517       283985              3659845  \n",
       "3        8.303091   232409       167359       320548              3628178  \n",
       "4        5.444000    11302            0        22789               407290  "
      ]
     },
     "execution_count": 9,
     "metadata": {},
     "output_type": "execute_result"
    }
   ],
   "source": [
    "# I took \"NoPLHIV\" divided by \"prevalence_%\" to get 1% of the district's population. I multiplied that by 100 \n",
    "# to get 100% of the districts population (including both HIV positive and HIV negative individuals).\n",
    "# I took the 100% of the population value and I subtracted the number of people living with HIV (\"NoPLHIV\").\n",
    "\n",
    "df['Not_living_with_HIV'] = ((df['NoPLHIV']/df['Prevalence_%'])*100 - df['NoPLHIV']).astype(int)\n",
    "df.head()"
   ]
  },
  {
   "cell_type": "markdown",
   "metadata": {},
   "source": [
    "**Q4 What is the total NoPLHIV in all the cities (districts with “city” or “metro” in the name)?**"
   ]
  },
  {
   "cell_type": "code",
   "execution_count": 10,
   "metadata": {},
   "outputs": [
    {
     "data": {
      "text/html": [
       "<div>\n",
       "<style scoped>\n",
       "    .dataframe tbody tr th:only-of-type {\n",
       "        vertical-align: middle;\n",
       "    }\n",
       "\n",
       "    .dataframe tbody tr th {\n",
       "        vertical-align: top;\n",
       "    }\n",
       "\n",
       "    .dataframe thead th {\n",
       "        text-align: right;\n",
       "    }\n",
       "</style>\n",
       "<table border=\"1\" class=\"dataframe\">\n",
       "  <thead>\n",
       "    <tr style=\"text-align: right;\">\n",
       "      <th></th>\n",
       "      <th>District</th>\n",
       "      <th>Code</th>\n",
       "      <th>Estimate</th>\n",
       "      <th>Prevalence_%</th>\n",
       "      <th>Prevalence_LCL</th>\n",
       "      <th>Prevalence_UCL</th>\n",
       "      <th>NoPLHIV</th>\n",
       "      <th>NoPLHIV_LCL</th>\n",
       "      <th>NoPLHIV_UCL</th>\n",
       "      <th>Not_living_with_HIV</th>\n",
       "    </tr>\n",
       "  </thead>\n",
       "  <tbody>\n",
       "    <tr>\n",
       "      <th>0</th>\n",
       "      <td>Buffalo City</td>\n",
       "      <td>BUF</td>\n",
       "      <td>Survey</td>\n",
       "      <td>13.600000</td>\n",
       "      <td>10.268000</td>\n",
       "      <td>16.932000</td>\n",
       "      <td>102437</td>\n",
       "      <td>77340</td>\n",
       "      <td>127534</td>\n",
       "      <td>650776</td>\n",
       "    </tr>\n",
       "    <tr>\n",
       "      <th>1</th>\n",
       "      <td>Buffalo City</td>\n",
       "      <td>BUF</td>\n",
       "      <td>Fay-Heriott</td>\n",
       "      <td>13.501283</td>\n",
       "      <td>11.031605</td>\n",
       "      <td>16.421802</td>\n",
       "      <td>101693</td>\n",
       "      <td>83092</td>\n",
       "      <td>123691</td>\n",
       "      <td>651516</td>\n",
       "    </tr>\n",
       "    <tr>\n",
       "      <th>2</th>\n",
       "      <td>City of Cape Town</td>\n",
       "      <td>CPT</td>\n",
       "      <td>Survey</td>\n",
       "      <td>5.200000</td>\n",
       "      <td>3.044000</td>\n",
       "      <td>7.356000</td>\n",
       "      <td>200751</td>\n",
       "      <td>117517</td>\n",
       "      <td>283985</td>\n",
       "      <td>3659845</td>\n",
       "    </tr>\n",
       "    <tr>\n",
       "      <th>3</th>\n",
       "      <td>City of Cape Town</td>\n",
       "      <td>CPT</td>\n",
       "      <td>Fay-Heriott</td>\n",
       "      <td>6.020043</td>\n",
       "      <td>4.335072</td>\n",
       "      <td>8.303091</td>\n",
       "      <td>232409</td>\n",
       "      <td>167359</td>\n",
       "      <td>320548</td>\n",
       "      <td>3628178</td>\n",
       "    </tr>\n",
       "    <tr>\n",
       "      <th>96</th>\n",
       "      <td>City of Johannesburg</td>\n",
       "      <td>JHB</td>\n",
       "      <td>Survey</td>\n",
       "      <td>11.100000</td>\n",
       "      <td>7.964000</td>\n",
       "      <td>14.236000</td>\n",
       "      <td>515387</td>\n",
       "      <td>369778</td>\n",
       "      <td>660996</td>\n",
       "      <td>4127739</td>\n",
       "    </tr>\n",
       "  </tbody>\n",
       "</table>\n",
       "</div>"
      ],
      "text/plain": [
       "                District Code     Estimate  Prevalence_%  Prevalence_LCL  \\\n",
       "0           Buffalo City  BUF       Survey     13.600000       10.268000   \n",
       "1           Buffalo City  BUF  Fay-Heriott     13.501283       11.031605   \n",
       "2      City of Cape Town  CPT       Survey      5.200000        3.044000   \n",
       "3      City of Cape Town  CPT  Fay-Heriott      6.020043        4.335072   \n",
       "96  City of Johannesburg  JHB       Survey     11.100000        7.964000   \n",
       "\n",
       "    Prevalence_UCL  NoPLHIV  NoPLHIV_LCL  NoPLHIV_UCL  Not_living_with_HIV  \n",
       "0        16.932000   102437        77340       127534               650776  \n",
       "1        16.421802   101693        83092       123691               651516  \n",
       "2         7.356000   200751       117517       283985              3659845  \n",
       "3         8.303091   232409       167359       320548              3628178  \n",
       "96       14.236000   515387       369778       660996              4127739  "
      ]
     },
     "execution_count": 10,
     "metadata": {},
     "output_type": "execute_result"
    }
   ],
   "source": [
    "city= df[df[\"District\"].str.contains('City|Metro')]\n",
    "city.head()"
   ]
  },
  {
   "cell_type": "code",
   "execution_count": 11,
   "metadata": {},
   "outputs": [
    {
     "name": "stdout",
     "output_type": "stream",
     "text": [
      "The total number of people living with HIV in all cities is 2572733\n"
     ]
    }
   ],
   "source": [
    "print(\"The total number of people living with HIV in all cities is\", str(city['NoPLHIV'].sum()))"
   ]
  },
  {
   "cell_type": "markdown",
   "metadata": {},
   "source": [
    "**Q5 Remove all the special/non-alphabetic characters from the dataframe column names. Print the resultant field names output.**"
   ]
  },
  {
   "cell_type": "code",
   "execution_count": 12,
   "metadata": {},
   "outputs": [
    {
     "data": {
      "text/plain": [
       "['District',\n",
       " 'Code',\n",
       " 'Estimate',\n",
       " 'Prevalence',\n",
       " 'PrevalenceLCL',\n",
       " 'PrevalenceUCL',\n",
       " 'NoPLHIV',\n",
       " 'NoPLHIVLCL',\n",
       " 'NoPLHIVUCL',\n",
       " 'NotlivingwithHIV']"
      ]
     },
     "execution_count": 12,
     "metadata": {},
     "output_type": "execute_result"
    }
   ],
   "source": [
    "cols=df.columns.to_list()\n",
    "clean_cols=[]\n",
    "for col in cols:\n",
    "    col=re.sub(\"[%_]\",\"\",col)\n",
    "    clean_cols.append(col)\n",
    "clean_cols"
   ]
  },
  {
   "cell_type": "markdown",
   "metadata": {},
   "source": [
    "**Q6 Using matplotlib, plot each Prevalence confidence interval (Prevalence_UCL and Prevalence_LCL) for Districts that end in “i”; according to Fay-Herriott estimates on 1 graph.**"
   ]
  },
  {
   "cell_type": "code",
   "execution_count": 13,
   "metadata": {},
   "outputs": [
    {
     "data": {
      "text/html": [
       "<div>\n",
       "<style scoped>\n",
       "    .dataframe tbody tr th:only-of-type {\n",
       "        vertical-align: middle;\n",
       "    }\n",
       "\n",
       "    .dataframe tbody tr th {\n",
       "        vertical-align: top;\n",
       "    }\n",
       "\n",
       "    .dataframe thead th {\n",
       "        text-align: right;\n",
       "    }\n",
       "</style>\n",
       "<table border=\"1\" class=\"dataframe\">\n",
       "  <thead>\n",
       "    <tr style=\"text-align: right;\">\n",
       "      <th></th>\n",
       "      <th>District</th>\n",
       "      <th>Code</th>\n",
       "      <th>Estimate</th>\n",
       "      <th>Prevalence_%</th>\n",
       "      <th>Prevalence_LCL</th>\n",
       "      <th>Prevalence_UCL</th>\n",
       "      <th>NoPLHIV</th>\n",
       "      <th>NoPLHIV_LCL</th>\n",
       "      <th>NoPLHIV_UCL</th>\n",
       "      <th>Not_living_with_HIV</th>\n",
       "    </tr>\n",
       "  </thead>\n",
       "  <tbody>\n",
       "    <tr>\n",
       "      <th>11</th>\n",
       "      <td>Chris Hani</td>\n",
       "      <td>DC13</td>\n",
       "      <td>Fay-Heriott</td>\n",
       "      <td>14.080983</td>\n",
       "      <td>11.181220</td>\n",
       "      <td>17.583893</td>\n",
       "      <td>113090</td>\n",
       "      <td>89801</td>\n",
       "      <td>141224</td>\n",
       "      <td>690049</td>\n",
       "    </tr>\n",
       "    <tr>\n",
       "      <th>13</th>\n",
       "      <td>Joe Gqabi</td>\n",
       "      <td>DC14</td>\n",
       "      <td>Fay-Heriott</td>\n",
       "      <td>11.507804</td>\n",
       "      <td>9.291766</td>\n",
       "      <td>14.169794</td>\n",
       "      <td>40618</td>\n",
       "      <td>32796</td>\n",
       "      <td>50013</td>\n",
       "      <td>312342</td>\n",
       "    </tr>\n",
       "    <tr>\n",
       "      <th>25</th>\n",
       "      <td>Fezile Dabi</td>\n",
       "      <td>DC20</td>\n",
       "      <td>Fay-Heriott</td>\n",
       "      <td>10.030754</td>\n",
       "      <td>7.811309</td>\n",
       "      <td>12.793304</td>\n",
       "      <td>50767</td>\n",
       "      <td>39534</td>\n",
       "      <td>64748</td>\n",
       "      <td>455346</td>\n",
       "    </tr>\n",
       "    <tr>\n",
       "      <th>33</th>\n",
       "      <td>uMzinyathi</td>\n",
       "      <td>DC24</td>\n",
       "      <td>Fay-Heriott</td>\n",
       "      <td>18.097578</td>\n",
       "      <td>16.845087</td>\n",
       "      <td>19.421445</td>\n",
       "      <td>93061</td>\n",
       "      <td>86620</td>\n",
       "      <td>99868</td>\n",
       "      <td>421156</td>\n",
       "    </tr>\n",
       "    <tr>\n",
       "      <th>51</th>\n",
       "      <td>Ehlanzeni</td>\n",
       "      <td>DC32</td>\n",
       "      <td>Fay-Heriott</td>\n",
       "      <td>15.820960</td>\n",
       "      <td>12.012425</td>\n",
       "      <td>20.554906</td>\n",
       "      <td>271179</td>\n",
       "      <td>205899</td>\n",
       "      <td>352321</td>\n",
       "      <td>1442869</td>\n",
       "    </tr>\n",
       "  </tbody>\n",
       "</table>\n",
       "</div>"
      ],
      "text/plain": [
       "       District  Code     Estimate  Prevalence_%  Prevalence_LCL  \\\n",
       "11   Chris Hani  DC13  Fay-Heriott     14.080983       11.181220   \n",
       "13    Joe Gqabi  DC14  Fay-Heriott     11.507804        9.291766   \n",
       "25  Fezile Dabi  DC20  Fay-Heriott     10.030754        7.811309   \n",
       "33   uMzinyathi  DC24  Fay-Heriott     18.097578       16.845087   \n",
       "51    Ehlanzeni  DC32  Fay-Heriott     15.820960       12.012425   \n",
       "\n",
       "    Prevalence_UCL  NoPLHIV  NoPLHIV_LCL  NoPLHIV_UCL  Not_living_with_HIV  \n",
       "11       17.583893   113090        89801       141224               690049  \n",
       "13       14.169794    40618        32796        50013               312342  \n",
       "25       12.793304    50767        39534        64748               455346  \n",
       "33       19.421445    93061        86620        99868               421156  \n",
       "51       20.554906   271179       205899       352321              1442869  "
      ]
     },
     "execution_count": 13,
     "metadata": {},
     "output_type": "execute_result"
    }
   ],
   "source": [
    "district_df= df[df[\"District\"].str.endswith(\"i\")]\n",
    "district_df =(district_df[district_df['Estimate'] == \"Fay-Heriott\"])\n",
    "district_df.head()"
   ]
  },
  {
   "cell_type": "code",
   "execution_count": 14,
   "metadata": {},
   "outputs": [
    {
     "name": "stderr",
     "output_type": "stream",
     "text": [
      "<ipython-input-14-4f03e2d20348>:6: UserWarning: Matplotlib is currently using module://ipykernel.pylab.backend_inline, which is a non-GUI backend, so cannot show the figure.\n",
      "  fig.show()\n"
     ]
    },
    {
     "data": {
      "image/png": "[encoded data removed]",
      "text/plain": [
       "<Figure size 720x432 with 1 Axes>"
      ]
     },
     "metadata": {
      "needs_background": "light"
     },
     "output_type": "display_data"
    }
   ],
   "source": [
    "x= district_df['District']\n",
    "y1=district_df['Prevalence_LCL']\n",
    "y2=district_df['Prevalence_UCL']\n",
    "\n",
    "fig=plt.figure()\n",
    "fig.show()\n",
    "ax=fig.add_subplot()\n",
    "fig.set_size_inches(10, 6)\n",
    "ax.plot(x,y2,c='r',marker=\"o\",label='UCL', ls='')\n",
    "ax.plot(x,y1,c='b',marker=\"o\",label='LCL', ls='')\n",
    "plt.title(\"Upper and lower confidence intervals of HIV prevalence\")\n",
    "plt.xlabel(\"District\")\n",
    "plt.xticks(rotation=90)\n",
    "plt.ylabel(\"Percent (%)\")\n",
    "plt.legend(loc='upper right')\n",
    "plt.draw()"
   ]
  }
 ],
 "metadata": {
  "kernelspec": {
   "display_name": "Python 3",
   "language": "python",
   "name": "python3"
  },
  "language_info": {
   "codemirror_mode": {
    "name": "ipython",
    "version": 3
   },
   "file_extension": ".py",
   "mimetype": "text/x-python",
   "name": "python",
   "nbconvert_exporter": "python",
   "pygments_lexer": "ipython3",
   "version": "3.8.5"
  }
 },
 "nbformat": 4,
 "nbformat_minor": 4
}
